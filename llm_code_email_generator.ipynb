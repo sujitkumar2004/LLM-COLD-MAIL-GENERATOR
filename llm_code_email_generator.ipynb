{
 "cells": [
  {
   "cell_type": "code",
   "execution_count": 28,
   "metadata": {},
   "outputs": [
    {
     "name": "stdout",
     "output_type": "stream",
     "text": [
      "The name of the first supercomputer is UNIVAC I.\n"
     ]
    }
   ],
   "source": [
    "from langchain_groq import ChatGroq\n",
    "\n",
    "llm = ChatGroq(\n",
    "    model=\"llama-3.1-70b-versatile\",\n",
    "    temperature=0,\n",
    "    api_key=\"your_api_key\"\n",
    ")\n",
    "\n",
    "response = llm.invoke(\"Name of the first supercomputer is ...\")\n",
    "\n",
    "print(response.content)"
   ]
  },
  {
   "cell_type": "code",
   "execution_count": 29,
   "metadata": {},
   "outputs": [
    {
     "name": "stdout",
     "output_type": "stream",
     "text": [
      "Skip to main contentLoginWhy Databricks DiscoverFor ExecutivesFor Startups Lakehouse Architecture DatabricksIQMosaic ResearchCustomersFeatured StoriesSee All CustomersPartnersCloud ProvidersDatabricks on AWS, Azure, and GCPConsulting & System IntegratorsExperts to build, deploy and migrate to DatabricksTechnology PartnersConnect your existing tools to your LakehouseC&SI Partner ProgramBuild, deploy or migrate to the LakehouseData PartnersAccess the ecosystem of data consumersPartner SolutionsFind custom industry and migration solutionsBuilt on DatabricksBuild, market and grow your businessProduct Databricks PlatformPlatform OverviewA unified platform for data, analytics and AIData ManagementData reliability, security and performanceSharingAn open, secure, zero-copy sharing for all dataData WarehousingServerless data warehouse for SQL analyticsGovernanceUnified governance for all data, analytics and AI assetsReal-Time AnalyticsReal-time analytics, AI and applications made simpleArtificial IntelligenceBuild and deploy ML and GenAI applicationsData EngineeringETL and orchestration for batch and streaming dataBusiness IntelligenceIntelligent analytics for real-world dataData ScienceCollaborative data science at scaleIntegrations and DataMarketplaceOpen marketplace for data, analytics and AIIDE IntegrationsBuild on the Lakehouse in your favorite IDEPartner ConnectDiscover and integrate with the Databricks ecosystemPricingDatabricks PricingExplore product pricing, DBUs and moreCost CalculatorEstimate your compute costs on any cloudOpen SourceOpen Source TechnologiesLearn more about the innovations behind the platformSolutions Databricks for IndustriesCommunicationsMedia and EntertainmentFinancial ServicesPublic SectorHealthcare & Life SciencesRetailManufacturingSee All IndustriesCross Industry SolutionsCustomer Data PlatformCyber SecurityMigration & DeploymentData MigrationProfessional ServicesSolution AcceleratorsExplore AcceleratorsMove faster toward outcomes that matterResources Training and CertificationLearning OverviewHub for training, certification, events and moreTraining OverviewDiscover curriculum tailored to your needsDatabricks AcademySign in to the Databricks learning platformCertificationGain recognition and differentiationUniversity AllianceWant to teach Databricks? See how.EventsData + AI SummitData + AI World TourData Intelligence DaysEvent CalendarBlog and PodcastsDatabricks BlogExplore news, product announcements, and moreDatabricks Mosaic Research BlogDiscover the latest in our Gen AI researchData Brew PodcastLet’s talk data!Champions of Data + AI PodcastInsights from data leaders powering innovationGet HelpCustomer SupportDocumentationCommunityDive DeepResource CenterDemo CenterAbout CompanyWho We AreOur TeamDatabricks VenturesContact UsCareersWorking at DatabricksOpen JobsPressAwards and RecognitionNewsroomSecurity and TrustSecurity and TrustReady to get started?Get a DemoLoginContact UsTry Databricks OverviewCultureBenefitsDiversityEngineeringResearchStudents & new gradsBack to search resultsData Scientist - New Grad (2025 Start)Mountain View, CaliforniaApply nowAt Databricks, we are passionate about helping data teams solve the world's toughest problems — from making the next mode of transportation a reality to accelerating the development of medical breakthroughs. We do this by building and running the world's best data and AI infrastructure platform so our customers can use deep data insights to improve their business.\n",
      "As a Data Scientist, you will join the Data team of data scientists and engineers to turn Databricks business and operations data into insights for product design, strategies for customer acquisition/retention, and optimizations to engineering system efficiency/stability/performance. The Data team also functions as an internal \"customer\" that dogfoods the Databricks platform and drives product improvements.\n",
      "We are hiring for the Mountain View, CA office. We will discuss more with you as you move through the process!\n",
      "The Impact You Will Have\n",
      "\n",
      "Work with the Data team and cross-functional stakeholders (Product, Customer Success, Engineering, Sales, Marketing and Finance) to use data to solve problems\n",
      "Apply your expertise in data science methodologies to real data to deliver insights and/or deploy algorithms to the Databricks platform\n",
      "Manage your own project end-to-end from requirements gathering, data exploration to presenting insights to stakeholders  and/or deployment an algorithm in a production environment\n",
      "\n",
      "What We Look For\n",
      "\n",
      "You will have graduated in December 2024 or Spring 2025 with a Master's or PhD degree in a quantitative field (e.g., Statistics, Math, Computer Science, Physics, Economics, Operational Research or Engineering) and are looking to start immediately.\n",
      "Proven ability to work with data in SQL and Python\n",
      "Experience with multiple statistical data analysis and machine learning methods such as generalized linear regression, regression and classification trees, unsupervised learning methods, causal inference, stochastic processes, time series forecasting\n",
      "You are excited to solve ambiguous problems with a collaborative team\n",
      "\n",
      "Pay Range Transparency\n",
      "Databricks is committed to fair and equitable compensation practices. The pay range(s) for this role is listed below and represents base salary range for non-commissionable roles or on-target earnings for commissionable roles.  Actual compensation packages are based on several factors that are unique to each candidate, including but not limited to job-related skills, depth of experience, relevant certifications and training, and specific work location. Based on the factors above, Databricks utilizes the full width of the range. The total compensation package for this position may also include eligibility for annual performance bonus, equity, and the benefits listed above. For more information regarding which range your location is in visit our page here.\n",
      "Local Pay Range$140,000—$150,000 USDAbout Databricks\n",
      "Databricks is the data and AI company. More than 10,000 organizations worldwide — including Comcast, Condé Nast, Grammarly, and over 50% of the Fortune 500 — rely on the Databricks Data Intelligence Platform to unify and democratize data, analytics and AI. Databricks is headquartered in San Francisco, with offices around the globe and was founded by the original creators of Lakehouse, Apache Spark™, Delta Lake and MLflow. To learn more, follow Databricks on Twitter, LinkedIn and Facebook.BenefitsAt Databricks, we strive to provide comprehensive benefits and perks that meet the needs of all of our employees. For specific details on the benefits offered in your region, please visit https://www.mybenefitsnow.com/databricks. \n",
      "Our Commitment to Diversity and Inclusion\n",
      "At Databricks, we are committed to fostering a diverse and inclusive culture where everyone can excel. We take great care to ensure that our hiring practices are inclusive and meet equal employment opportunity standards. Individuals looking for employment at Databricks are considered without regard to age, color, disability, ethnicity, family or marital status, gender identity or expression, language, national origin, physical and mental ability, political affiliation, race, religion, sexual orientation, socio-economic status, veteran status, and other protected characteristics.\n",
      "Compliance\n",
      "If access to export-controlled technology or source code is required for performance of job duties, it is within Employer's discretion whether to apply for a U.S. government license for such positions, and Employer may decline to proceed with an applicant on this basis alone.To apply, click here and accept cookiesWhy DatabricksDiscoverFor ExecutivesFor StartupsLakehouse ArchitectureDatabricksIQMosaic ResearchCustomersFeaturedSee AllPartnersCloud ProvidersTechnology PartnersData PartnersBuilt on DatabricksConsulting & System IntegratorsC&SI Partner ProgramPartner SolutionsWhy DatabricksDiscoverFor ExecutivesFor StartupsLakehouse ArchitectureDatabricksIQMosaic ResearchCustomersFeaturedSee AllPartnersCloud ProvidersTechnology PartnersData PartnersBuilt on DatabricksConsulting & System IntegratorsC&SI Partner ProgramPartner SolutionsProductDatabricks PlatformPlatform OverviewSharingGovernanceArtificial IntelligenceBusiness IntelligenceData ManagementData WarehousingReal-Time AnalyticsData EngineeringData SciencePricingPricing OverviewPricing CalculatorOpen SourceIntegrations and DataMarketplaceIDE IntegrationsPartner ConnectProductDatabricks PlatformPlatform OverviewSharingGovernanceArtificial IntelligenceBusiness IntelligenceData ManagementData WarehousingReal-Time AnalyticsData EngineeringData SciencePricingPricing OverviewPricing CalculatorOpen SourceIntegrations and DataMarketplaceIDE IntegrationsPartner ConnectSolutionsDatabricks For IndustriesCommunicationsFinancial ServicesHealthcare and Life SciencesManufacturingMedia and EntertainmentPublic SectorRetailView AllCross Industry SolutionsCustomer Data PlatformCyber SecurityData MigrationProfessional ServicesSolution AcceleratorsSolutionsDatabricks For IndustriesCommunicationsFinancial ServicesHealthcare and Life SciencesManufacturingMedia and EntertainmentPublic SectorRetailView AllCross Industry SolutionsCustomer Data PlatformCyber SecurityData MigrationProfessional ServicesSolution AcceleratorsResourcesDocumentationCustomer SupportCommunityTraining and CertificationLearning OverviewTraining OverviewCertificationUniversity AllianceDatabricks Academy LoginEventsData + AI SummitData + AI World TourData Intelligence DaysFull CalendarBlog and PodcastsDatabricks BlogDatabricks Mosaic Research BlogData Brew PodcastChampions of Data & AI PodcastResourcesDocumentationCustomer SupportCommunityTraining and CertificationLearning OverviewTraining OverviewCertificationUniversity AllianceDatabricks Academy LoginEventsData + AI SummitData + AI World TourData Intelligence DaysFull CalendarBlog and PodcastsDatabricks BlogDatabricks Mosaic Research BlogData Brew PodcastChampions of Data & AI PodcastAboutCompanyWho We AreOur TeamDatabricks VenturesContact UsCareersOpen JobsWorking at DatabricksPressAwards and RecognitionNewsroomSecurity and TrustAboutCompanyWho We AreOur TeamDatabricks VenturesContact UsCareersOpen JobsWorking at DatabricksPressAwards and RecognitionNewsroomSecurity and TrustDatabricks Inc.\n",
      "160 Spear Street, 15th Floor\n",
      "San Francisco, CA 94105\n",
      "1-866-330-0121See Careers\n",
      "at Databricks© Databricks 2024. All rights reserved. Apache, Apache Spark, Spark and the Spark logo are trademarks of the Apache Software Foundation.Privacy Notice|Terms of Use|Modern Slavery Statement|Your Privacy Choices|Your California Privacy Rights\n",
      "\n",
      "\n",
      "\n"
     ]
    }
   ],
   "source": [
    "from langchain_community.document_loaders import WebBaseLoader\n",
    "\n",
    "loader = WebBaseLoader(\"https://www.databricks.com/company/careers/university-recruiting/data-scientist---new-grad-2025-start-6866554002\")\n",
    "page_data = loader.load().pop().page_content\n",
    "print(page_data)"
   ]
  },
  {
   "cell_type": "code",
   "execution_count": 30,
   "metadata": {},
   "outputs": [
    {
     "name": "stdout",
     "output_type": "stream",
     "text": [
      "```json\n",
      "{\n",
      "    \"role\": \"Data Scientist - New Grad (2025 Start)\",\n",
      "    \"experience\": \"Master's or PhD degree in a quantitative field (e.g., Statistics, Math, Computer Science, Physics, Economics, Operational Research or Engineering)\",\n",
      "    \"skills\": \"SQL, Python, statistical data analysis, machine learning methods, generalized linear regression, regression and classification trees, unsupervised learning methods, causal inference, stochastic processes, time series forecasting\",\n",
      "    \"description\": \"Work with the Data team and cross-functional stakeholders to use data to solve problems, apply expertise in data science methodologies to real data to deliver insights and/or deploy algorithms to the Databricks platform, manage own project end-to-end from requirements gathering, data exploration to presenting insights to stakeholders and/or deployment an algorithm in a production environment.\"\n",
      "}\n",
      "```\n"
     ]
    }
   ],
   "source": [
    "from langchain_core.prompts import PromptTemplate\n",
    "\n",
    "prompt_extract = PromptTemplate.from_template(\n",
    "    \"\"\"\n",
    "    ### SCRAPED TEXT FROM WEBSITE:\n",
    "    {page_data}\n",
    "    ### INSTRUCTION:\n",
    "    The scraped text is from the career's page of website.\n",
    "    Your job is to extract the job postings and return them in JSON format containing the\n",
    "    following keys: 'role', 'experience', 'skills' and 'description'.\n",
    "    Only return the valid JSON(No list).\n",
    "    ### VALID JSON(NO PREAMBLE):\n",
    "    \"\"\"\n",
    ")\n",
    "\n",
    "chain_extract = prompt_extract|llm\n",
    "response = chain_extract.invoke(input={'page_data':page_data})\n",
    "print(response.content)"
   ]
  },
  {
   "cell_type": "code",
   "execution_count": 31,
   "metadata": {},
   "outputs": [
    {
     "data": {
      "text/plain": [
       "{'role': 'Data Scientist - New Grad (2025 Start)',\n",
       " 'experience': \"Master's or PhD degree in a quantitative field (e.g., Statistics, Math, Computer Science, Physics, Economics, Operational Research or Engineering)\",\n",
       " 'skills': 'SQL, Python, statistical data analysis, machine learning methods, generalized linear regression, regression and classification trees, unsupervised learning methods, causal inference, stochastic processes, time series forecasting',\n",
       " 'description': 'Work with the Data team and cross-functional stakeholders to use data to solve problems, apply expertise in data science methodologies to real data to deliver insights and/or deploy algorithms to the Databricks platform, manage own project end-to-end from requirements gathering, data exploration to presenting insights to stakeholders and/or deployment an algorithm in a production environment.'}"
      ]
     },
     "execution_count": 31,
     "metadata": {},
     "output_type": "execute_result"
    }
   ],
   "source": [
    "from langchain_core.output_parsers import JsonOutputParser\n",
    "\n",
    "json_parser = JsonOutputParser()\n",
    "json_res = json_parser.parse(response.content)\n",
    "json_res"
   ]
  },
  {
   "cell_type": "code",
   "execution_count": 32,
   "metadata": {},
   "outputs": [
    {
     "data": {
      "text/plain": [
       "dict"
      ]
     },
     "execution_count": 32,
     "metadata": {},
     "output_type": "execute_result"
    }
   ],
   "source": [
    "type(json_res)"
   ]
  },
  {
   "cell_type": "code",
   "execution_count": 33,
   "metadata": {},
   "outputs": [
    {
     "data": {
      "text/html": [
       "<div>\n",
       "<style scoped>\n",
       "    .dataframe tbody tr th:only-of-type {\n",
       "        vertical-align: middle;\n",
       "    }\n",
       "\n",
       "    .dataframe tbody tr th {\n",
       "        vertical-align: top;\n",
       "    }\n",
       "\n",
       "    .dataframe thead th {\n",
       "        text-align: right;\n",
       "    }\n",
       "</style>\n",
       "<table border=\"1\" class=\"dataframe\">\n",
       "  <thead>\n",
       "    <tr style=\"text-align: right;\">\n",
       "      <th></th>\n",
       "      <th>Techstack</th>\n",
       "      <th>Links</th>\n",
       "    </tr>\n",
       "  </thead>\n",
       "  <tbody>\n",
       "    <tr>\n",
       "      <th>0</th>\n",
       "      <td>React, Node.js, MongoDB</td>\n",
       "      <td>https://example.com/react-portfolio</td>\n",
       "    </tr>\n",
       "    <tr>\n",
       "      <th>1</th>\n",
       "      <td>Angular,.NET, SQL Server</td>\n",
       "      <td>https://example.com/angular-portfolio</td>\n",
       "    </tr>\n",
       "    <tr>\n",
       "      <th>2</th>\n",
       "      <td>Vue.js, Ruby on Rails, PostgreSQL</td>\n",
       "      <td>https://example.com/vue-portfolio</td>\n",
       "    </tr>\n",
       "    <tr>\n",
       "      <th>3</th>\n",
       "      <td>Python, Django, MySQL</td>\n",
       "      <td>https://example.com/python-portfolio</td>\n",
       "    </tr>\n",
       "    <tr>\n",
       "      <th>4</th>\n",
       "      <td>Java, Spring Boot, Oracle</td>\n",
       "      <td>https://example.com/java-portfolio</td>\n",
       "    </tr>\n",
       "    <tr>\n",
       "      <th>5</th>\n",
       "      <td>Flutter, Firebase, GraphQL</td>\n",
       "      <td>https://example.com/flutter-portfolio</td>\n",
       "    </tr>\n",
       "    <tr>\n",
       "      <th>6</th>\n",
       "      <td>WordPress, PHP, MySQL</td>\n",
       "      <td>https://example.com/wordpress-portfolio</td>\n",
       "    </tr>\n",
       "    <tr>\n",
       "      <th>7</th>\n",
       "      <td>Magento, PHP, MySQL</td>\n",
       "      <td>https://example.com/magento-portfolio</td>\n",
       "    </tr>\n",
       "    <tr>\n",
       "      <th>8</th>\n",
       "      <td>React Native, Node.js, MongoDB</td>\n",
       "      <td>https://example.com/react-native-portfolio</td>\n",
       "    </tr>\n",
       "    <tr>\n",
       "      <th>9</th>\n",
       "      <td>iOS, Swift, Core Data</td>\n",
       "      <td>https://example.com/ios-portfolio</td>\n",
       "    </tr>\n",
       "    <tr>\n",
       "      <th>10</th>\n",
       "      <td>Android, Java, Room Persistence</td>\n",
       "      <td>https://example.com/android-portfolio</td>\n",
       "    </tr>\n",
       "    <tr>\n",
       "      <th>11</th>\n",
       "      <td>Kotlin, Android, Firebase</td>\n",
       "      <td>https://example.com/kotlin-android-portfolio</td>\n",
       "    </tr>\n",
       "    <tr>\n",
       "      <th>12</th>\n",
       "      <td>Android TV, Kotlin, Android NDK</td>\n",
       "      <td>https://example.com/android-tv-portfolio</td>\n",
       "    </tr>\n",
       "    <tr>\n",
       "      <th>13</th>\n",
       "      <td>iOS, Swift, ARKit</td>\n",
       "      <td>https://example.com/ios-ar-portfolio</td>\n",
       "    </tr>\n",
       "    <tr>\n",
       "      <th>14</th>\n",
       "      <td>Cross-platform, Xamarin, Azure</td>\n",
       "      <td>https://example.com/xamarin-portfolio</td>\n",
       "    </tr>\n",
       "    <tr>\n",
       "      <th>15</th>\n",
       "      <td>Backend, Kotlin, Spring Boot</td>\n",
       "      <td>https://example.com/kotlin-backend-portfolio</td>\n",
       "    </tr>\n",
       "    <tr>\n",
       "      <th>16</th>\n",
       "      <td>Frontend, TypeScript, Angular</td>\n",
       "      <td>https://example.com/typescript-frontend-portfolio</td>\n",
       "    </tr>\n",
       "    <tr>\n",
       "      <th>17</th>\n",
       "      <td>Full-stack, JavaScript, Express.js</td>\n",
       "      <td>https://example.com/full-stack-js-portfolio</td>\n",
       "    </tr>\n",
       "    <tr>\n",
       "      <th>18</th>\n",
       "      <td>Machine Learning, Python, TensorFlow</td>\n",
       "      <td>https://example.com/ml-python-portfolio</td>\n",
       "    </tr>\n",
       "    <tr>\n",
       "      <th>19</th>\n",
       "      <td>DevOps, Jenkins, Docker</td>\n",
       "      <td>https://example.com/devops-portfolio</td>\n",
       "    </tr>\n",
       "  </tbody>\n",
       "</table>\n",
       "</div>"
      ],
      "text/plain": [
       "                               Techstack  \\\n",
       "0                React, Node.js, MongoDB   \n",
       "1               Angular,.NET, SQL Server   \n",
       "2      Vue.js, Ruby on Rails, PostgreSQL   \n",
       "3                  Python, Django, MySQL   \n",
       "4              Java, Spring Boot, Oracle   \n",
       "5             Flutter, Firebase, GraphQL   \n",
       "6                  WordPress, PHP, MySQL   \n",
       "7                    Magento, PHP, MySQL   \n",
       "8         React Native, Node.js, MongoDB   \n",
       "9                  iOS, Swift, Core Data   \n",
       "10       Android, Java, Room Persistence   \n",
       "11             Kotlin, Android, Firebase   \n",
       "12       Android TV, Kotlin, Android NDK   \n",
       "13                     iOS, Swift, ARKit   \n",
       "14        Cross-platform, Xamarin, Azure   \n",
       "15          Backend, Kotlin, Spring Boot   \n",
       "16         Frontend, TypeScript, Angular   \n",
       "17    Full-stack, JavaScript, Express.js   \n",
       "18  Machine Learning, Python, TensorFlow   \n",
       "19               DevOps, Jenkins, Docker   \n",
       "\n",
       "                                                Links  \n",
       "0                 https://example.com/react-portfolio  \n",
       "1               https://example.com/angular-portfolio  \n",
       "2                   https://example.com/vue-portfolio  \n",
       "3                https://example.com/python-portfolio  \n",
       "4                  https://example.com/java-portfolio  \n",
       "5               https://example.com/flutter-portfolio  \n",
       "6             https://example.com/wordpress-portfolio  \n",
       "7               https://example.com/magento-portfolio  \n",
       "8          https://example.com/react-native-portfolio  \n",
       "9                   https://example.com/ios-portfolio  \n",
       "10              https://example.com/android-portfolio  \n",
       "11       https://example.com/kotlin-android-portfolio  \n",
       "12           https://example.com/android-tv-portfolio  \n",
       "13               https://example.com/ios-ar-portfolio  \n",
       "14              https://example.com/xamarin-portfolio  \n",
       "15       https://example.com/kotlin-backend-portfolio  \n",
       "16  https://example.com/typescript-frontend-portfolio  \n",
       "17        https://example.com/full-stack-js-portfolio  \n",
       "18            https://example.com/ml-python-portfolio  \n",
       "19               https://example.com/devops-portfolio  "
      ]
     },
     "execution_count": 33,
     "metadata": {},
     "output_type": "execute_result"
    }
   ],
   "source": [
    "import pandas as pd\n",
    "\n",
    "df = pd.read_csv(\"my_portfolio.csv\")\n",
    "df"
   ]
  },
  {
   "cell_type": "code",
   "execution_count": 37,
   "metadata": {},
   "outputs": [],
   "source": [
    "import uuid\n",
    "import chromadb\n",
    "\n",
    "client = chromadb.PersistentClient('vectorstore')\n",
    "collection = client.get_or_create_collection(name=\"portfolio\")\n",
    "\n",
    "if not collection.count():\n",
    "    for _, row in df.iterrows():\n",
    "        collection.add(documents=row[\"Techstack\"],\n",
    "                       metadatas={\"links\": row[\"Links\"]},\n",
    "                       ids=[str(uuid.uuid4())])"
   ]
  },
  {
   "cell_type": "code",
   "execution_count": 39,
   "metadata": {},
   "outputs": [
    {
     "data": {
      "text/plain": [
       "{'role': 'Data Scientist - New Grad (2025 Start)',\n",
       " 'experience': \"Master's or PhD degree in a quantitative field (e.g., Statistics, Math, Computer Science, Physics, Economics, Operational Research or Engineering)\",\n",
       " 'skills': 'SQL, Python, statistical data analysis, machine learning methods, generalized linear regression, regression and classification trees, unsupervised learning methods, causal inference, stochastic processes, time series forecasting',\n",
       " 'description': 'Work with the Data team and cross-functional stakeholders to use data to solve problems, apply expertise in data science methodologies to real data to deliver insights and/or deploy algorithms to the Databricks platform, manage own project end-to-end from requirements gathering, data exploration to presenting insights to stakeholders and/or deployment an algorithm in a production environment.'}"
      ]
     },
     "execution_count": 39,
     "metadata": {},
     "output_type": "execute_result"
    }
   ],
   "source": [
    "job = json_res\n",
    "job"
   ]
  },
  {
   "cell_type": "code",
   "execution_count": 40,
   "metadata": {},
   "outputs": [
    {
     "data": {
      "text/plain": [
       "'SQL, Python, statistical data analysis, machine learning methods, generalized linear regression, regression and classification trees, unsupervised learning methods, causal inference, stochastic processes, time series forecasting'"
      ]
     },
     "execution_count": 40,
     "metadata": {},
     "output_type": "execute_result"
    }
   ],
   "source": [
    "job['skills']"
   ]
  },
  {
   "cell_type": "code",
   "execution_count": 36,
   "metadata": {},
   "outputs": [
    {
     "data": {
      "text/plain": [
       "[[{'links': 'https://example.com/ml-python-portfolio'},\n",
       "  {'links': 'https://example.com/python-portfolio'}]]"
      ]
     },
     "execution_count": 36,
     "metadata": {},
     "output_type": "execute_result"
    }
   ],
   "source": [
    "links = collection.query(query_texts=job['skills'], n_results=2).get('metadatas', [])\n",
    "links"
   ]
  },
  {
   "cell_type": "code",
   "execution_count": 41,
   "metadata": {},
   "outputs": [
    {
     "name": "stdout",
     "output_type": "stream",
     "text": [
      "Subject: Expert Data Science Solutions for Seamless Business Integration\n",
      "\n",
      "Dear Hiring Manager,\n",
      "\n",
      "I came across the job description for a Data Scientist - New Grad (2025 Start) at your esteemed organization, and I am excited to introduce Soham.ai as a trusted partner in fulfilling your data science needs. Our team of experts specializes in leveraging AI and software consulting to drive business growth, scalability, and efficiency.\n",
      "\n",
      "At Soham.ai, we have a proven track record of delivering tailored solutions that cater to the unique requirements of our clients. Our expertise in data science methodologies, including statistical data analysis, machine learning methods, and time series forecasting, aligns perfectly with the skills required for the Data Scientist role.\n",
      "\n",
      "Our team is well-versed in managing projects end-to-end, from requirements gathering to deployment, and has a strong background in working with cross-functional stakeholders to deliver insights and deploy algorithms in production environments. We are confident that our expertise can help your organization unlock the full potential of data-driven decision-making.\n",
      "\n",
      "To showcase our capabilities, I would like to share some relevant examples from our portfolio:\n",
      "\n",
      "* Our machine learning expertise in Python can be seen in our project at [https://example.com/ml-python-portfolio](https://example.com/ml-python-portfolio), where we successfully implemented predictive models to drive business growth.\n",
      "* Our proficiency in Python development is demonstrated in our project at [https://example.com/python-portfolio](https://example.com/python-portfolio), where we built scalable and efficient solutions for our clients.\n",
      "\n",
      "I would be delighted to schedule a call to discuss how Soham.ai can support your organization in achieving its data science goals. Please let me know if you would like to explore this opportunity further.\n",
      "\n",
      "Best regards,\n",
      "\n",
      "Soham\n",
      "Business Development Executive\n",
      "Soham.ai\n"
     ]
    }
   ],
   "source": [
    "prompt_email = PromptTemplate.from_template(\n",
    "        \"\"\"\n",
    "        ### JOB DESCRIPTION:\n",
    "        {job_description}\n",
    "        \n",
    "        ### INSTRUCTION:\n",
    "        You are Soham, a business development executive at Soham.ai. Soham.ai is an AI & Software Consulting company dedicated to facilitating\n",
    "        the seamless integration of business processes through automated tools. \n",
    "        Over our experience, we have empowered numerous enterprises with tailored solutions, fostering scalability, \n",
    "        process optimization, cost reduction, and heightened overall efficiency. \n",
    "        Your job is to write a cold email to the client regarding the job mentioned above describing the capability of Soham.aI \n",
    "        in fulfilling their needs.\n",
    "        Also add the most relevant ones from the following links to showcase Soham.ai's portfolio: {link_list}\n",
    "        Remember you are Soham, BDE at Soham.ai. \n",
    "        Do not provide a preamble.\n",
    "        ### EMAIL (NO PREAMBLE):\n",
    "        \n",
    "        \"\"\"\n",
    "        )\n",
    "\n",
    "chain_email = prompt_email | llm\n",
    "res = chain_email.invoke({\"job_description\": str(job), \"link_list\": links})\n",
    "print(res.content)"
   ]
  }
 ],
 "metadata": {
  "kernelspec": {
   "display_name": "Python 3",
   "language": "python",
   "name": "python3"
  },
  "language_info": {
   "codemirror_mode": {
    "name": "ipython",
    "version": 3
   },
   "file_extension": ".py",
   "mimetype": "text/x-python",
   "name": "python",
   "nbconvert_exporter": "python",
   "pygments_lexer": "ipython3",
   "version": "3.10.0"
  }
 },
 "nbformat": 4,
 "nbformat_minor": 2
}
